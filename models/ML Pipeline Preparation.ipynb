{
 "cells": [
  {
   "cell_type": "markdown",
   "metadata": {},
   "source": [
    "# ML Pipeline Preparation\n",
    "Follow the instructions below to help you create your ML pipeline.\n",
    "### 1. Import libraries and load data from database.\n",
    "- Import Python libraries\n",
    "- Load dataset from database with [`read_sql_table`](https://pandas.pydata.org/pandas-docs/stable/generated/pandas.read_sql_table.html)\n",
    "- Define feature and target variables X and Y"
   ]
  },
  {
   "cell_type": "code",
   "execution_count": 1,
   "metadata": {},
   "outputs": [
    {
     "name": "stderr",
     "output_type": "stream",
     "text": [
      "[nltk_data] Downloading package punkt to\n",
      "[nltk_data]     C:\\Users\\julia\\AppData\\Roaming\\nltk_data...\n",
      "[nltk_data]   Package punkt is already up-to-date!\n",
      "[nltk_data] Downloading package wordnet to\n",
      "[nltk_data]     C:\\Users\\julia\\AppData\\Roaming\\nltk_data...\n",
      "[nltk_data]   Package wordnet is already up-to-date!\n",
      "[nltk_data] Downloading package averaged_perceptron_tagger to\n",
      "[nltk_data]     C:\\Users\\julia\\AppData\\Roaming\\nltk_data...\n",
      "[nltk_data]   Package averaged_perceptron_tagger is already up-to-\n",
      "[nltk_data]       date!\n",
      "[nltk_data] Downloading package stopwords to\n",
      "[nltk_data]     C:\\Users\\julia\\AppData\\Roaming\\nltk_data...\n",
      "[nltk_data]   Package stopwords is already up-to-date!\n"
     ]
    }
   ],
   "source": [
    "# import libraries\n",
    "import sys\n",
    "import requests\n",
    "import pandas as pd\n",
    "import numpy as np\n",
    "import sqlite3\n",
    "from sqlalchemy import create_engine\n",
    "import os\n",
    "import re\n",
    "import string\n",
    "import pickle\n",
    "\n",
    "import nltk\n",
    "nltk.download(['punkt', 'wordnet', 'averaged_perceptron_tagger','stopwords'])\n",
    "from nltk.corpus import stopwords\n",
    "from nltk.stem import WordNetLemmatizer\n",
    "from nltk.stem.snowball import SnowballStemmer\n",
    "from nltk.tokenize import word_tokenize\n",
    "\n",
    "from sklearn.model_selection import GridSearchCV\n",
    "from sklearn.ensemble import RandomForestClassifier,AdaBoostClassifier\n",
    "from sklearn.model_selection import train_test_split\n",
    "from sklearn.pipeline import Pipeline, FeatureUnion\n",
    "from sklearn.base import BaseEstimator, TransformerMixin\n",
    "from sklearn.feature_extraction.text import CountVectorizer, TfidfTransformer\n",
    "from sklearn.metrics.pairwise import cosine_similarity\n",
    "from sklearn.metrics import accuracy_score,f1_score,recall_score,precision_score,confusion_matrix,classification_report\n",
    "from sklearn.model_selection import cross_val_score, KFold,cross_val_predict\n",
    "from sklearn.preprocessing import RobustScaler\n",
    "from sklearn.multioutput import MultiOutputClassifier"
   ]
  },
  {
   "cell_type": "code",
   "execution_count": 2,
   "metadata": {},
   "outputs": [],
   "source": [
    "# load data from database\n",
    "engine = create_engine('sqlite:///DisasterResponse.db')\n",
    "df = pd.read_sql_table('DisasterResponse', engine)\n",
    "X = df['message']\n",
    "y = df.iloc[:,4:]\n",
    "columns_names = y.columns"
   ]
  },
  {
   "cell_type": "markdown",
   "metadata": {},
   "source": [
    "### 2. Write a tokenization function to process your text data"
   ]
  },
  {
   "cell_type": "code",
   "execution_count": 3,
   "metadata": {},
   "outputs": [],
   "source": [
    "\n",
    "def tokenize(text):\n",
    "    '''\n",
    "    This process clean the message by tokenize and lemmatize\n",
    "    \n",
    "    INPUT: df with the message\n",
    "\n",
    "    OUTPUT: df modified \n",
    "    '''\n",
    "    # this part handle some part of the special characters\n",
    "\n",
    "    text= re.sub(r\"[^a-zA-Z0-9]\",\" \",text)\n",
    "\n",
    "    # this part tokenize and remove stopwords and other class of special characters\n",
    "    text_tokenize = word_tokenize(text)\n",
    "    text_tokenize = [y for y in text_tokenize if y not in stopwords.words('english')+list(string.punctuation)]\n",
    "\n",
    "    #define to lemmatize\n",
    "    lemmatizer=WordNetLemmatizer()\n",
    "\n",
    "    #This lemmatize the input\n",
    "    clean_tokens = []\n",
    "    for tok in text_tokenize:\n",
    "        clean_tok = lemmatizer.lemmatize(tok).lower().strip()\n",
    "        clean_tokens.append(clean_tok)\n",
    "        \n",
    "    #get the clean information\n",
    "    return clean_tokens"
   ]
  },
  {
   "cell_type": "markdown",
   "metadata": {},
   "source": [
    "### 3. Build a machine learning pipeline\n",
    "This machine pipeline should take in the `message` column as input and output classification results on the other 36 categories in the dataset. You may find the [MultiOutputClassifier](http://scikit-learn.org/stable/modules/generated/sklearn.multioutput.MultiOutputClassifier.html) helpful for predicting multiple target variables."
   ]
  },
  {
   "cell_type": "code",
   "execution_count": 4,
   "metadata": {},
   "outputs": [],
   "source": [
    "pipeline = Pipeline([\n",
    "    ('features', FeatureUnion([\n",
    "\n",
    "        ('text_pipeline', Pipeline([\n",
    "            ('vect', CountVectorizer(tokenizer=tokenize)),\n",
    "            ('tfidf', TfidfTransformer())\n",
    "        ])),\n",
    "    ])),\n",
    "\n",
    "    ('clf', MultiOutputClassifier(RandomForestClassifier()))\n",
    "])"
   ]
  },
  {
   "cell_type": "markdown",
   "metadata": {},
   "source": [
    "### 4. Train pipeline\n",
    "- Split data into train and test sets\n",
    "- Train pipeline"
   ]
  },
  {
   "cell_type": "code",
   "execution_count": 5,
   "metadata": {},
   "outputs": [],
   "source": [
    "X_train, X_test, y_train, y_test = train_test_split(X, y,test_size=0.2,random_state=42)"
   ]
  },
  {
   "cell_type": "code",
   "execution_count": 6,
   "metadata": {},
   "outputs": [],
   "source": [
    "pipeline_fit = pipeline.fit(X_train,y_train)"
   ]
  },
  {
   "cell_type": "markdown",
   "metadata": {},
   "source": [
    "### 5. Test your model\n",
    "Report the f1 score, precision and recall for each output category of the dataset. You can do this by iterating through the columns and calling sklearn's `classification_report` on each."
   ]
  },
  {
   "cell_type": "code",
   "execution_count": 7,
   "metadata": {},
   "outputs": [],
   "source": [
    "y_pred = pipeline_fit.predict(X_test)\n",
    "y_pred = pd.DataFrame(y_pred)"
   ]
  },
  {
   "cell_type": "code",
   "execution_count": 8,
   "metadata": {},
   "outputs": [
    {
     "name": "stdout",
     "output_type": "stream",
     "text": [
      "The mean accuracy score of the model is 0    0.809497\n",
      "dtype: float64\n",
      "The mean precision score of the model is 0    0.684744\n",
      "dtype: float64\n",
      "The mean recall of the model is 0    0.558915\n",
      "dtype: float64\n",
      "The mean F1 score of the model is 0    0.599806\n",
      "dtype: float64\n"
     ]
    }
   ],
   "source": [
    "accuracy_mean = []\n",
    "f1_mean = []\n",
    "precision_mean = []\n",
    "recall_mean = []\n",
    "\n",
    "for i in range(0,len(columns_names.shape),1):\n",
    "    accuracy_mean.append(accuracy_score(y_test.iloc[:,i], y_pred.iloc[:,i]))\n",
    "    f1_mean.append(f1_score(y_test.iloc[:,i], y_pred.iloc[:,i],average='macro'))\n",
    "    precision_mean.append(precision_score(y_test.iloc[:,i], y_pred.iloc[:,i],average='macro'))\n",
    "    recall_mean.append(recall_score(y_test.iloc[:,i], y_pred.iloc[:,i],average='macro'))\n",
    "\n",
    "accuracy_mean = pd.DataFrame(accuracy_mean)\n",
    "f1_mean = pd.DataFrame(f1_mean)\n",
    "precision_mean = pd.DataFrame(precision_mean)\n",
    "recall_mean = pd.DataFrame(recall_mean)\n",
    "\n",
    "print('The mean accuracy score of the model is',accuracy_mean.mean())\n",
    "print('The mean precision score of the model is',precision_mean.mean())\n",
    "print('The mean recall of the model is',recall_mean.mean())\n",
    "print('The mean F1 score of the model is',f1_mean.mean())"
   ]
  },
  {
   "cell_type": "markdown",
   "metadata": {},
   "source": [
    "### 6. Improve your model\n",
    "Use grid search to find better parameters. "
   ]
  },
  {
   "cell_type": "code",
   "execution_count": 16,
   "metadata": {},
   "outputs": [],
   "source": [
    "#establish some parameters for improve del model\n",
    "pipeline = Pipeline([\n",
    "    ('features', FeatureUnion([\n",
    "\n",
    "        ('text_pipeline', Pipeline([\n",
    "            ('vect', CountVectorizer(tokenizer=tokenize)),\n",
    "            ('tfidf', TfidfTransformer())\n",
    "        ])),\n",
    "    ])),\n",
    "\n",
    "    ('clf', MultiOutputClassifier(RandomForestClassifier()))\n",
    "])\n",
    "\n",
    "parameters  = { \"clf__estimator__n_estimators\": [50,100,150], \n",
    "                \"clf__estimator__max_depth\" : [1,2,3,4,5,6],\n",
    "                \"clf__estimator__max_samples\": [0.05, 0.1],\n",
    "                'clf__estimator__random_state':[42]}\n",
    "\n",
    "cv = GridSearchCV(pipeline,param_grid=parameters,cv=3)"
   ]
  },
  {
   "cell_type": "code",
   "execution_count": null,
   "metadata": {},
   "outputs": [],
   "source": [
    "model = cv.fit(X_train,y_train)"
   ]
  },
  {
   "cell_type": "markdown",
   "metadata": {},
   "source": [
    "### 7. Test your model\n",
    "Show the accuracy, precision, and recall of the tuned model.  \n",
    "\n",
    "Since this project focuses on code quality, process, and  pipelines, there is no minimum performance metric needed to pass. However, make sure to fine tune your models for accuracy, precision and recall to make your project stand out - especially for your portfolio!"
   ]
  },
  {
   "cell_type": "code",
   "execution_count": null,
   "metadata": {},
   "outputs": [],
   "source": [
    "y_pred = model.predict(X_test)\n",
    "y_pred = pd.DataFrame(y_pred)"
   ]
  },
  {
   "cell_type": "code",
   "execution_count": null,
   "metadata": {},
   "outputs": [],
   "source": [
    "accuracy_mean = []\n",
    "f1_mean = []\n",
    "precision_mean = []\n",
    "recall_mean = []\n",
    "\n",
    "for i in range(0,len(columns_names.shape),1):\n",
    "    accuracy_mean.append(accuracy_score(y_test.iloc[:,i], y_pred.iloc[:,i]))\n",
    "    f1_mean.append(f1_score(y_test.iloc[:,i], y_pred.iloc[:,i],average='macro'))\n",
    "    precision_mean.append(precision_score(y_test.iloc[:,i], y_pred.iloc[:,i],average='macro'))\n",
    "    recall_mean.append(recall_score(y_test.iloc[:,i], y_pred.iloc[:,i],average='macro'))\n",
    "\n",
    "accuracy_mean = pd.DataFrame(accuracy_mean)\n",
    "f1_mean = pd.DataFrame(f1_mean)\n",
    "precision_mean = pd.DataFrame(precision_mean)\n",
    "recall_mean = pd.DataFrame(recall_mean)\n",
    "\n",
    "print('The mean accuracy score of the model is',accuracy_mean.mean())\n",
    "print('The mean precision score of the model is',precision_mean.mean())\n",
    "print('The mean recall of the model is',recall_mean.mean())\n",
    "print('The mean F1 score of the model is',f1_mean.mean())"
   ]
  },
  {
   "cell_type": "markdown",
   "metadata": {},
   "source": [
    "### 8. Try improving your model further. Here are a few ideas:\n",
    "* try other machine learning algorithms\n",
    "* add other features besides the TF-IDF"
   ]
  },
  {
   "cell_type": "code",
   "execution_count": 18,
   "metadata": {},
   "outputs": [],
   "source": [
    "#establish some parameters for improve del model\n",
    "pipeline2 = Pipeline([\n",
    "    ('features', FeatureUnion([\n",
    "\n",
    "        ('text_pipeline', Pipeline([\n",
    "            ('vect', CountVectorizer(tokenizer=tokenize)),\n",
    "            ('tfidf', TfidfTransformer())\n",
    "        ])),\n",
    "    ])),\n",
    "\n",
    "    ('ada', MultiOutputClassifier(AdaBoostClassifier()))\n",
    "])\n",
    "\n",
    "#parameters2  = {'ada__estimator__n_estimators' : [100,150],\n",
    "#                'ada__estimator__random_state':[42]}\n",
    "\n",
    "#cv2 = GridSearchCV(pipeline2, param_grid=parameters2)\n"
   ]
  },
  {
   "cell_type": "code",
   "execution_count": 19,
   "metadata": {},
   "outputs": [],
   "source": [
    "model2 = pipeline2.fit(X_train,y_train)"
   ]
  },
  {
   "cell_type": "code",
   "execution_count": 20,
   "metadata": {},
   "outputs": [],
   "source": [
    "y_pred = model2.predict(X_test)\n",
    "y_pred = pd.DataFrame(y_pred)"
   ]
  },
  {
   "cell_type": "code",
   "execution_count": 21,
   "metadata": {},
   "outputs": [
    {
     "name": "stdout",
     "output_type": "stream",
     "text": [
      "The mean accuracy score of the model is 0    0.763921\n",
      "dtype: float64\n",
      "The mean precision score of the model is 0    0.639114\n",
      "dtype: float64\n",
      "The mean recall of the model is 0    0.401592\n",
      "dtype: float64\n",
      "The mean F1 score of the model is 0    0.408123\n",
      "dtype: float64\n"
     ]
    }
   ],
   "source": [
    "accuracy_mean = []\n",
    "f1_mean = []\n",
    "precision_mean = []\n",
    "recall_mean = []\n",
    "\n",
    "for i in range(0,len(columns_names.shape),1):\n",
    "    accuracy_mean.append(accuracy_score(y_test.iloc[:,i], y_pred.iloc[:,i]))\n",
    "    f1_mean.append(f1_score(y_test.iloc[:,i], y_pred.iloc[:,i],average='macro'))\n",
    "    precision_mean.append(precision_score(y_test.iloc[:,i], y_pred.iloc[:,i],average='macro'))\n",
    "    recall_mean.append(recall_score(y_test.iloc[:,i], y_pred.iloc[:,i],average='macro'))\n",
    "\n",
    "accuracy_mean = pd.DataFrame(accuracy_mean)\n",
    "f1_mean = pd.DataFrame(f1_mean)\n",
    "precision_mean = pd.DataFrame(precision_mean)\n",
    "recall_mean = pd.DataFrame(recall_mean)\n",
    "\n",
    "print('The mean accuracy score of the model is',accuracy_mean.mean())\n",
    "print('The mean precision score of the model is',precision_mean.mean())\n",
    "print('The mean recall of the model is',recall_mean.mean())\n",
    "print('The mean F1 score of the model is',f1_mean.mean())"
   ]
  },
  {
   "cell_type": "markdown",
   "metadata": {},
   "source": [
    "### 9. Export your model as a pickle file"
   ]
  },
  {
   "cell_type": "code",
   "execution_count": null,
   "metadata": {},
   "outputs": [],
   "source": [
    "pickle.dump(model,open(model_filepath,'wb'))"
   ]
  },
  {
   "cell_type": "markdown",
   "metadata": {},
   "source": [
    "### 10. Use this notebook to complete `train.py`\n",
    "Use the template file attached in the Resources folder to write a script that runs the steps above to create a database and export a model based on a new dataset specified by the user."
   ]
  },
  {
   "cell_type": "code",
   "execution_count": null,
   "metadata": {},
   "outputs": [],
   "source": []
  }
 ],
 "metadata": {
  "kernelspec": {
   "display_name": "Python 3.8.13 ('base')",
   "language": "python",
   "name": "python3"
  },
  "language_info": {
   "codemirror_mode": {
    "name": "ipython",
    "version": 3
   },
   "file_extension": ".py",
   "mimetype": "text/x-python",
   "name": "python",
   "nbconvert_exporter": "python",
   "pygments_lexer": "ipython3",
   "version": "3.8.13"
  },
  "vscode": {
   "interpreter": {
    "hash": "ad2bdc8ecc057115af97d19610ffacc2b4e99fae6737bb82f5d7fb13d2f2c186"
   }
  }
 },
 "nbformat": 4,
 "nbformat_minor": 2
}
